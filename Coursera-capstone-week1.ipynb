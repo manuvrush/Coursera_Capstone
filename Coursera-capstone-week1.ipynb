{
 "cells": [
  {
   "cell_type": "markdown",
   "metadata": {},
   "source": [
    "Introduction:\n",
    "We will be using extracted CSV files from previously written manhattan and toronto nighborhood analysis.\n",
    "\n",
    "Business problem:\n",
    "We need to find out if neighborhoods are same if 2 out of top 3 most common venue are matching.\n",
    "This progam is simply going to loop through neighborhoods to find out matching common venues.\n",
    "Final output shows 3 columns Manhattan neighborhood, its matching Toronto Neighborhood and matching minimum 2 out of top 3 common venues.\n",
    "Also, to find out options to open new restaurant or shop, we will use toronto neighborhood csv file to find out places where venue category is not in top 10 of most common venues."
   ]
  },
  {
   "cell_type": "code",
   "execution_count": 2,
   "metadata": {},
   "outputs": [
    {
     "name": "stdout",
     "output_type": "stream",
     "text": [
      "   Unnamed: 0    Borough        Neighborhood   Latitude  Longitude  \\\n",
      "0           0  Manhattan         Marble Hill  40.876551 -73.910660   \n",
      "1           1  Manhattan           Chinatown  40.715618 -73.994279   \n",
      "2           2  Manhattan  Washington Heights  40.851903 -73.936900   \n",
      "3           3  Manhattan              Inwood  40.867684 -73.921210   \n",
      "4           4  Manhattan    Hamilton Heights  40.823604 -73.949688   \n",
      "\n",
      "   Cluster Labels 1st Most Common Venue 2nd Most Common Venue  \\\n",
      "0               0        Discount Store        Sandwich Place   \n",
      "1               2    Chinese Restaurant                Bakery   \n",
      "2               0                  Café                Bakery   \n",
      "3               4    Mexican Restaurant                  Café   \n",
      "4               4           Pizza Place           Coffee Shop   \n",
      "\n",
      "  3rd Most Common Venue 4th Most Common Venue 5th Most Common Venue  \\\n",
      "0           Coffee Shop                   Gym           Yoga Studio   \n",
      "1          Cocktail Bar   American Restaurant          Noodle House   \n",
      "2         Grocery Store                  Bank        Sandwich Place   \n",
      "3                Lounge            Restaurant                  Park   \n",
      "4                  Café    Mexican Restaurant          Cocktail Bar   \n",
      "\n",
      "  6th Most Common Venue 7th Most Common Venue 8th Most Common Venue  \\\n",
      "0        Tennis Stadium      Department Store           Pizza Place   \n",
      "1   Shanghai Restaurant    Salon / Barbershop          Dessert Shop   \n",
      "2           Coffee Shop                  Park    Spanish Restaurant   \n",
      "3    Chinese Restaurant    Frozen Yogurt Shop                Bakery   \n",
      "4     Indian Restaurant          Liquor Store      Sushi Restaurant   \n",
      "\n",
      "  9th Most Common Venue   10th Most Common Venue  \n",
      "0                 Diner                 Pharmacy  \n",
      "1          Optical Shop                      Spa  \n",
      "2         Deli / Bodega  New American Restaurant  \n",
      "3  Caribbean Restaurant              Pizza Place  \n",
      "4                  Park            Deli / Bodega  \n",
      "   Unnamed: 0 Postal Code           Borough  \\\n",
      "0           0         M3A        North York   \n",
      "1           1         M4A        North York   \n",
      "2           2         M5A  Downtown Toronto   \n",
      "3           3         M6A        North York   \n",
      "4           4         M7A  Downtown Toronto   \n",
      "\n",
      "                                  Neighborhood   Latitude  Longitude  \\\n",
      "0                                    Parkwoods  43.753259 -79.329656   \n",
      "1                             Victoria Village  43.725882 -79.315572   \n",
      "2                    Regent Park, Harbourfront  43.654260 -79.360636   \n",
      "3             Lawrence Manor, Lawrence Heights  43.718518 -79.464763   \n",
      "4  Queen's Park, Ontario Provincial Government  43.662301 -79.389494   \n",
      "\n",
      "   Cluster Labels  1st Most Common Venue 2nd Most Common Venue  \\\n",
      "0             0.0      Food & Drink Shop                  Park   \n",
      "1             1.0  Portuguese Restaurant           Pizza Place   \n",
      "2             1.0            Coffee Shop                  Park   \n",
      "3             1.0         Clothing Store         Women's Store   \n",
      "4             1.0            Coffee Shop           Yoga Studio   \n",
      "\n",
      "  3rd Most Common Venue 4th Most Common Venue   5th Most Common Venue  \\\n",
      "0             Drugstore                 Diner          Discount Store   \n",
      "1     French Restaurant           Coffee Shop            Hockey Arena   \n",
      "2                   Pub                Bakery          Breakfast Spot   \n",
      "3           Coffee Shop              Boutique  Furniture / Home Store   \n",
      "4                  Bank              Beer Bar           Smoothie Shop   \n",
      "\n",
      "  6th Most Common Venue 7th Most Common Venue 8th Most Common Venue  \\\n",
      "0   Distribution Center               Dog Run      Doner Restaurant   \n",
      "1          Intersection      Doner Restaurant    Dim Sum Restaurant   \n",
      "2                  Café               Theater                 Hotel   \n",
      "3             Gift Shop           Event Space     Accessories Store   \n",
      "4        Sandwich Place            Restaurant                  Café   \n",
      "\n",
      "   9th Most Common Venue 10th Most Common Venue  \n",
      "0             Donut Shop          Women's Store  \n",
      "1                  Diner         Discount Store  \n",
      "2         Chocolate Shop                    Spa  \n",
      "3  Vietnamese Restaurant      Convenience Store  \n",
      "4  Portuguese Restaurant     Chinese Restaurant  \n"
     ]
    }
   ],
   "source": [
    "import pandas as pd\n",
    "import numpy as np\n",
    "manhattan_data = pd.read_csv('manhattan.csv')\n",
    "toronto_data = pd.read_csv('toronto.csv')\n",
    "print(manhattan_data.head())\n",
    "print(toronto_data.head())"
   ]
  },
  {
   "cell_type": "code",
   "execution_count": null,
   "metadata": {},
   "outputs": [],
   "source": []
  }
 ],
 "metadata": {
  "kernelspec": {
   "display_name": "Python 3",
   "language": "python",
   "name": "python3"
  },
  "language_info": {
   "codemirror_mode": {
    "name": "ipython",
    "version": 3
   },
   "file_extension": ".py",
   "mimetype": "text/x-python",
   "name": "python",
   "nbconvert_exporter": "python",
   "pygments_lexer": "ipython3",
   "version": "3.8.5"
  }
 },
 "nbformat": 4,
 "nbformat_minor": 4
}
